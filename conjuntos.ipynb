{
 "cells": [
  {
   "cell_type": "markdown",
   "id": "d606674a",
   "metadata": {},
   "source": [
    "# Conjuntos"
   ]
  },
  {
   "cell_type": "code",
   "execution_count": 4,
   "id": "7fc9a65b",
   "metadata": {},
   "outputs": [],
   "source": [
    "# Criando um conjunto\n",
    "\n",
    "lista = [1,2,3,3,5,7,9,11,31,8,8,47]\n",
    "conjunto_1 = set(lista)"
   ]
  },
  {
   "cell_type": "code",
   "execution_count": 3,
   "id": "957a4b33",
   "metadata": {},
   "outputs": [
    {
     "name": "stdout",
     "output_type": "stream",
     "text": [
      "{1, 2, 3, 5, 7, 8, 9, 11, 47, 31}\n"
     ]
    }
   ],
   "source": [
    "print(conjunto_1)"
   ]
  },
  {
   "cell_type": "code",
   "execution_count": 5,
   "id": "c7c344b7",
   "metadata": {},
   "outputs": [
    {
     "data": {
      "text/plain": [
       "[1, 2, 3, 3, 5, 7, 9, 11, 31, 8, 8, 47]"
      ]
     },
     "execution_count": 5,
     "metadata": {},
     "output_type": "execute_result"
    }
   ],
   "source": [
    "lista"
   ]
  },
  {
   "cell_type": "code",
   "execution_count": 8,
   "id": "554bddf8",
   "metadata": {},
   "outputs": [],
   "source": [
    "conjunto_2 = {1,3,3,5,5,0,0,23,-2}"
   ]
  },
  {
   "cell_type": "code",
   "execution_count": 10,
   "id": "f13f92bb",
   "metadata": {},
   "outputs": [
    {
     "name": "stdout",
     "output_type": "stream",
     "text": [
      "{0, 1, 3, 5, 23, -2}\n"
     ]
    }
   ],
   "source": [
    "print(conjunto_2)"
   ]
  },
  {
   "cell_type": "code",
   "execution_count": 13,
   "id": "af9640d4",
   "metadata": {},
   "outputs": [],
   "source": [
    "conjunto_2.add(49)"
   ]
  },
  {
   "cell_type": "code",
   "execution_count": 14,
   "id": "0e8df141",
   "metadata": {},
   "outputs": [
    {
     "name": "stdout",
     "output_type": "stream",
     "text": [
      "{0, 1, 49, 3, 5, 23, -2}\n"
     ]
    }
   ],
   "source": [
    "print(conjunto_2)"
   ]
  },
  {
   "cell_type": "code",
   "execution_count": 15,
   "id": "42547a97",
   "metadata": {},
   "outputs": [],
   "source": [
    "conjunto_2.remove(5)"
   ]
  },
  {
   "cell_type": "code",
   "execution_count": 16,
   "id": "39681a52",
   "metadata": {},
   "outputs": [
    {
     "name": "stdout",
     "output_type": "stream",
     "text": [
      "{0, 1, 49, 3, 23, -2}\n"
     ]
    }
   ],
   "source": [
    "print(conjunto_2)"
   ]
  },
  {
   "cell_type": "code",
   "execution_count": null,
   "id": "b39079f5",
   "metadata": {},
   "outputs": [],
   "source": []
  }
 ],
 "metadata": {
  "kernelspec": {
   "display_name": "Python 3 (ipykernel)",
   "language": "python",
   "name": "python3"
  },
  "language_info": {
   "codemirror_mode": {
    "name": "ipython",
    "version": 3
   },
   "file_extension": ".py",
   "mimetype": "text/x-python",
   "name": "python",
   "nbconvert_exporter": "python",
   "pygments_lexer": "ipython3",
   "version": "3.10.9"
  }
 },
 "nbformat": 4,
 "nbformat_minor": 5
}
